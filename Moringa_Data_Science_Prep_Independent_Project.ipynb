{
  "nbformat": 4,
  "nbformat_minor": 0,
  "metadata": {
    "colab": {
      "name": "Moringa_Data_Science_Prep_Independent_Project.ipynb",
      "provenance": [],
      "collapsed_sections": [],
      "authorship_tag": "ABX9TyMONJ/c5TIJF3RIHQ+3X0S4",
      "include_colab_link": true
    },
    "kernelspec": {
      "name": "python3",
      "display_name": "Python 3"
    },
    "language_info": {
      "name": "python"
    }
  },
  "cells": [
    {
      "cell_type": "markdown",
      "metadata": {
        "id": "view-in-github",
        "colab_type": "text"
      },
      "source": [
        "<a href=\"https://colab.research.google.com/github/Kathi3/INDEPENDENT-PROJECT/blob/main/Moringa_Data_Science_Prep_Independent_Project.ipynb\" target=\"_parent\"><img src=\"https://colab.research.google.com/assets/colab-badge.svg\" alt=\"Open In Colab\"/></a>"
      ]
    },
    {
      "cell_type": "code",
      "metadata": {
        "colab": {
          "base_uri": "https://localhost:8080/",
          "height": 35
        },
        "id": "7ED0YncJlyqS",
        "outputId": "89606aaa-d63d-4af7-b28f-be314ce866f5"
      },
      "source": [
        "#Loading the SQL extension to the environment\n",
        "#Connecting SQl lite memory database\n",
        "%load_ext sql\n",
        "%sql sqlite://"
      ],
      "execution_count": null,
      "outputs": [
        {
          "output_type": "execute_result",
          "data": {
            "application/vnd.google.colaboratory.intrinsic+json": {
              "type": "string"
            },
            "text/plain": [
              "'Connected: @None'"
            ]
          },
          "metadata": {
            "tags": []
          },
          "execution_count": 1
        }
      ]
    },
    {
      "cell_type": "markdown",
      "metadata": {
        "id": "-8NhF4WAmZlc"
      },
      "source": [
        "## **IMPORTING LIBRARIES**\n"
      ]
    },
    {
      "cell_type": "code",
      "metadata": {
        "id": "PoGcCSSOmRxp"
      },
      "source": [
        "#importing pandas\n",
        "import pandas as pd\n",
        "import numpy as np\n",
        "import matplotlib.pyplot as plt\n",
        "import seaborn as sns\n",
        "%matplotlib inline"
      ],
      "execution_count": null,
      "outputs": []
    },
    {
      "cell_type": "markdown",
      "metadata": {
        "id": "vGI7Rzrxmlk3"
      },
      "source": [
        "## **DATASET LOADING**\n"
      ]
    },
    {
      "cell_type": "markdown",
      "metadata": {
        "id": "w3xkzUCcWxWU"
      },
      "source": [
        "DATA LOADING ALSO DONE IN TABLEAU"
      ]
    },
    {
      "cell_type": "code",
      "metadata": {
        "colab": {
          "base_uri": "https://localhost:8080/",
          "height": 203
        },
        "id": "kwzuTDmJmf91",
        "outputId": "1c9ac8d2-3a17-4c48-807f-316d1b362a9e"
      },
      "source": [
        "#Importing the Karamoja datasets\n",
        "\n",
        "population_df=pd.read_csv('/content/Uganda_Karamoja_District_Crop_Yield_Population.csv')\n",
        "population_df.head()"
      ],
      "execution_count": null,
      "outputs": [
        {
          "output_type": "execute_result",
          "data": {
            "text/html": [
              "<div>\n",
              "<style scoped>\n",
              "    .dataframe tbody tr th:only-of-type {\n",
              "        vertical-align: middle;\n",
              "    }\n",
              "\n",
              "    .dataframe tbody tr th {\n",
              "        vertical-align: top;\n",
              "    }\n",
              "\n",
              "    .dataframe thead th {\n",
              "        text-align: right;\n",
              "    }\n",
              "</style>\n",
              "<table border=\"1\" class=\"dataframe\">\n",
              "  <thead>\n",
              "    <tr style=\"text-align: right;\">\n",
              "      <th></th>\n",
              "      <th>OBJECTID</th>\n",
              "      <th>NAME</th>\n",
              "      <th>POP</th>\n",
              "      <th>Area</th>\n",
              "      <th>S_Yield_Ha</th>\n",
              "      <th>M_Yield_Ha</th>\n",
              "      <th>Crop_Area_Ha</th>\n",
              "      <th>S_Area_Ha</th>\n",
              "      <th>M_Area_Ha</th>\n",
              "      <th>S_Prod_Tot</th>\n",
              "      <th>M_Prod_Tot</th>\n",
              "    </tr>\n",
              "  </thead>\n",
              "  <tbody>\n",
              "    <tr>\n",
              "      <th>0</th>\n",
              "      <td>92</td>\n",
              "      <td>ABIM</td>\n",
              "      <td>90385</td>\n",
              "      <td>2771977106</td>\n",
              "      <td>449</td>\n",
              "      <td>1040</td>\n",
              "      <td>5470.068394</td>\n",
              "      <td>3277.295971</td>\n",
              "      <td>1848.621855</td>\n",
              "      <td>1471506</td>\n",
              "      <td>1922567</td>\n",
              "    </tr>\n",
              "    <tr>\n",
              "      <th>1</th>\n",
              "      <td>96</td>\n",
              "      <td>AMUDAT</td>\n",
              "      <td>101790</td>\n",
              "      <td>1643582836</td>\n",
              "      <td>205</td>\n",
              "      <td>1297</td>\n",
              "      <td>5765.443719</td>\n",
              "      <td>2973.423860</td>\n",
              "      <td>2733.661014</td>\n",
              "      <td>609552</td>\n",
              "      <td>3545558</td>\n",
              "    </tr>\n",
              "    <tr>\n",
              "      <th>2</th>\n",
              "      <td>20</td>\n",
              "      <td>KAABONG</td>\n",
              "      <td>627057</td>\n",
              "      <td>7373606003</td>\n",
              "      <td>279</td>\n",
              "      <td>945</td>\n",
              "      <td>28121.672530</td>\n",
              "      <td>20544.194960</td>\n",
              "      <td>7394.416334</td>\n",
              "      <td>5731830</td>\n",
              "      <td>6987723</td>\n",
              "    </tr>\n",
              "    <tr>\n",
              "      <th>3</th>\n",
              "      <td>85</td>\n",
              "      <td>KOTIDO</td>\n",
              "      <td>243157</td>\n",
              "      <td>3641539808</td>\n",
              "      <td>331</td>\n",
              "      <td>1148</td>\n",
              "      <td>53032.649450</td>\n",
              "      <td>50247.443900</td>\n",
              "      <td>1751.372284</td>\n",
              "      <td>16631904</td>\n",
              "      <td>2010575</td>\n",
              "    </tr>\n",
              "    <tr>\n",
              "      <th>4</th>\n",
              "      <td>5</td>\n",
              "      <td>MOROTO</td>\n",
              "      <td>127811</td>\n",
              "      <td>3570160948</td>\n",
              "      <td>128</td>\n",
              "      <td>355</td>\n",
              "      <td>5954.814048</td>\n",
              "      <td>4741.748776</td>\n",
              "      <td>1190.050606</td>\n",
              "      <td>606944</td>\n",
              "      <td>422468</td>\n",
              "    </tr>\n",
              "  </tbody>\n",
              "</table>\n",
              "</div>"
            ],
            "text/plain": [
              "   OBJECTID     NAME     POP  ...    M_Area_Ha  S_Prod_Tot  M_Prod_Tot\n",
              "0        92     ABIM   90385  ...  1848.621855     1471506     1922567\n",
              "1        96   AMUDAT  101790  ...  2733.661014      609552     3545558\n",
              "2        20  KAABONG  627057  ...  7394.416334     5731830     6987723\n",
              "3        85   KOTIDO  243157  ...  1751.372284    16631904     2010575\n",
              "4         5   MOROTO  127811  ...  1190.050606      606944      422468\n",
              "\n",
              "[5 rows x 11 columns]"
            ]
          },
          "metadata": {
            "tags": []
          },
          "execution_count": 3
        }
      ]
    },
    {
      "cell_type": "code",
      "metadata": {
        "colab": {
          "base_uri": "https://localhost:8080/",
          "height": 240
        },
        "id": "l62Ko6tFmkti",
        "outputId": "d696c85f-51fe-4ee6-c701-93ffe4735fad"
      },
      "source": [
        "population_df=pd.read_csv('/content/Uganda_Karamoja_Subcounty_Crop_Yield_Population.csv')\n",
        "population_df.head()"
      ],
      "execution_count": null,
      "outputs": [
        {
          "output_type": "execute_result",
          "data": {
            "text/html": [
              "<div>\n",
              "<style scoped>\n",
              "    .dataframe tbody tr th:only-of-type {\n",
              "        vertical-align: middle;\n",
              "    }\n",
              "\n",
              "    .dataframe tbody tr th {\n",
              "        vertical-align: top;\n",
              "    }\n",
              "\n",
              "    .dataframe thead th {\n",
              "        text-align: right;\n",
              "    }\n",
              "</style>\n",
              "<table border=\"1\" class=\"dataframe\">\n",
              "  <thead>\n",
              "    <tr style=\"text-align: right;\">\n",
              "      <th></th>\n",
              "      <th>OBJECTID</th>\n",
              "      <th>SUBCOUNTY_NAME</th>\n",
              "      <th>DISTRICT_NAME</th>\n",
              "      <th>POP</th>\n",
              "      <th>Area</th>\n",
              "      <th>Karamoja</th>\n",
              "      <th>S_Yield_Ha</th>\n",
              "      <th>M_Yield_Ha</th>\n",
              "      <th>Crop_Area_Ha</th>\n",
              "      <th>S_Area_Ha</th>\n",
              "      <th>M_Area_Ha</th>\n",
              "      <th>S_Prod_Tot</th>\n",
              "      <th>M_Prod_Tot</th>\n",
              "    </tr>\n",
              "  </thead>\n",
              "  <tbody>\n",
              "    <tr>\n",
              "      <th>0</th>\n",
              "      <td>263</td>\n",
              "      <td>KACHERI</td>\n",
              "      <td>KOTIDO</td>\n",
              "      <td>17244</td>\n",
              "      <td>1067176155</td>\n",
              "      <td>Y</td>\n",
              "      <td>354.207411</td>\n",
              "      <td>1137.467019</td>\n",
              "      <td>7023.533691</td>\n",
              "      <td>6434.342449</td>\n",
              "      <td>528.124229</td>\n",
              "      <td>2.279092e+06</td>\n",
              "      <td>600723.892900</td>\n",
              "    </tr>\n",
              "    <tr>\n",
              "      <th>1</th>\n",
              "      <td>264</td>\n",
              "      <td>KOTIDO</td>\n",
              "      <td>KOTIDO</td>\n",
              "      <td>52771</td>\n",
              "      <td>597575188</td>\n",
              "      <td>Y</td>\n",
              "      <td>367.890523</td>\n",
              "      <td>1162.996687</td>\n",
              "      <td>13587.990760</td>\n",
              "      <td>12455.592640</td>\n",
              "      <td>824.767081</td>\n",
              "      <td>4.582294e+06</td>\n",
              "      <td>959201.382500</td>\n",
              "    </tr>\n",
              "    <tr>\n",
              "      <th>2</th>\n",
              "      <td>265</td>\n",
              "      <td>KOTIDO TOWN COUNCIL</td>\n",
              "      <td>KOTIDO</td>\n",
              "      <td>27389</td>\n",
              "      <td>23972401</td>\n",
              "      <td>Y</td>\n",
              "      <td>369.314177</td>\n",
              "      <td>1167.005832</td>\n",
              "      <td>1656.531855</td>\n",
              "      <td>1520.322052</td>\n",
              "      <td>8.561644</td>\n",
              "      <td>5.614765e+05</td>\n",
              "      <td>9991.488268</td>\n",
              "    </tr>\n",
              "    <tr>\n",
              "      <th>3</th>\n",
              "      <td>266</td>\n",
              "      <td>NAKAPERIMORU</td>\n",
              "      <td>KOTIDO</td>\n",
              "      <td>38775</td>\n",
              "      <td>419111591</td>\n",
              "      <td>Y</td>\n",
              "      <td>283.324569</td>\n",
              "      <td>852.366578</td>\n",
              "      <td>7087.823334</td>\n",
              "      <td>6761.488901</td>\n",
              "      <td>45.721712</td>\n",
              "      <td>1.915696e+06</td>\n",
              "      <td>38971.659080</td>\n",
              "    </tr>\n",
              "    <tr>\n",
              "      <th>4</th>\n",
              "      <td>267</td>\n",
              "      <td>PANYANGARA</td>\n",
              "      <td>KOTIDO</td>\n",
              "      <td>65704</td>\n",
              "      <td>880955930</td>\n",
              "      <td>Y</td>\n",
              "      <td>373.836926</td>\n",
              "      <td>1283.859882</td>\n",
              "      <td>10398.249390</td>\n",
              "      <td>10111.198130</td>\n",
              "      <td>172.611914</td>\n",
              "      <td>3.779939e+06</td>\n",
              "      <td>221609.511400</td>\n",
              "    </tr>\n",
              "  </tbody>\n",
              "</table>\n",
              "</div>"
            ],
            "text/plain": [
              "   OBJECTID       SUBCOUNTY_NAME  ...    S_Prod_Tot     M_Prod_Tot\n",
              "0       263              KACHERI  ...  2.279092e+06  600723.892900\n",
              "1       264               KOTIDO  ...  4.582294e+06  959201.382500\n",
              "2       265  KOTIDO TOWN COUNCIL  ...  5.614765e+05    9991.488268\n",
              "3       266         NAKAPERIMORU  ...  1.915696e+06   38971.659080\n",
              "4       267           PANYANGARA  ...  3.779939e+06  221609.511400\n",
              "\n",
              "[5 rows x 13 columns]"
            ]
          },
          "metadata": {
            "tags": []
          },
          "execution_count": 4
        }
      ]
    },
    {
      "cell_type": "markdown",
      "metadata": {
        "id": "9IICvgh5rNn7"
      },
      "source": [
        "## **SAVING DATASETS IN SQL DATAFRAME**"
      ]
    },
    {
      "cell_type": "markdown",
      "metadata": {
        "id": "TQflSU2Ox2hf"
      },
      "source": [
        "The table named Uganda_Karamoja_District crop yield population, IS HEREBY KNOWN AS **X** (IN SHORT) in our Database"
      ]
    },
    {
      "cell_type": "code",
      "metadata": {
        "colab": {
          "base_uri": "https://localhost:8080/",
          "height": 225
        },
        "id": "Ii-s8gAYqTM6",
        "outputId": "ffd6fb95-a551-4d28-c371-7d3f31206c05"
      },
      "source": [
        "#Uploading the Uganda_Karamoja_District crop yield Dataset to SQL dataframe\n",
        "#Droping any exsiting table named Uganda_Karamoja_District crop yield population, HEREBY KNOWN AS X (IN SHORT) in our Database\n",
        "#Previewing the Table\n",
        "\n",
        "with open('/content/Uganda_Karamoja_District_Crop_Yield_Population.csv','r') as f:\n",
        "    X = pd.read_csv(f, index_col=0, encoding='utf-8')\n",
        "%sql DROP TABLE if EXISTS X;\n",
        "%sql PERSIST X;\n",
        "%sql SELECT * FROM X LIMIT 5;"
      ],
      "execution_count": null,
      "outputs": [
        {
          "output_type": "stream",
          "text": [
            " * sqlite://\n",
            "Done.\n",
            " * sqlite://\n",
            " * sqlite://\n",
            "Done.\n"
          ],
          "name": "stdout"
        },
        {
          "output_type": "execute_result",
          "data": {
            "text/html": [
              "<table>\n",
              "    <thead>\n",
              "        <tr>\n",
              "            <th>OBJECTID</th>\n",
              "            <th>NAME</th>\n",
              "            <th>POP</th>\n",
              "            <th>Area</th>\n",
              "            <th>S_Yield_Ha</th>\n",
              "            <th>M_Yield_Ha</th>\n",
              "            <th>Crop_Area_Ha</th>\n",
              "            <th>S_Area_Ha</th>\n",
              "            <th>M_Area_Ha</th>\n",
              "            <th>S_Prod_Tot</th>\n",
              "            <th>M_Prod_Tot</th>\n",
              "        </tr>\n",
              "    </thead>\n",
              "    <tbody>\n",
              "        <tr>\n",
              "            <td>92</td>\n",
              "            <td>ABIM</td>\n",
              "            <td>90385</td>\n",
              "            <td>2771977106</td>\n",
              "            <td>449</td>\n",
              "            <td>1040</td>\n",
              "            <td>5470.068394</td>\n",
              "            <td>3277.295971</td>\n",
              "            <td>1848.621855</td>\n",
              "            <td>1471506</td>\n",
              "            <td>1922567</td>\n",
              "        </tr>\n",
              "        <tr>\n",
              "            <td>96</td>\n",
              "            <td>AMUDAT</td>\n",
              "            <td>101790</td>\n",
              "            <td>1643582836</td>\n",
              "            <td>205</td>\n",
              "            <td>1297</td>\n",
              "            <td>5765.443719</td>\n",
              "            <td>2973.4238600000003</td>\n",
              "            <td>2733.6610140000003</td>\n",
              "            <td>609552</td>\n",
              "            <td>3545558</td>\n",
              "        </tr>\n",
              "        <tr>\n",
              "            <td>20</td>\n",
              "            <td>KAABONG</td>\n",
              "            <td>627057</td>\n",
              "            <td>7373606003</td>\n",
              "            <td>279</td>\n",
              "            <td>945</td>\n",
              "            <td>28121.67253</td>\n",
              "            <td>20544.19496</td>\n",
              "            <td>7394.4163340000005</td>\n",
              "            <td>5731830</td>\n",
              "            <td>6987723</td>\n",
              "        </tr>\n",
              "        <tr>\n",
              "            <td>85</td>\n",
              "            <td>KOTIDO</td>\n",
              "            <td>243157</td>\n",
              "            <td>3641539808</td>\n",
              "            <td>331</td>\n",
              "            <td>1148</td>\n",
              "            <td>53032.64945</td>\n",
              "            <td>50247.4439</td>\n",
              "            <td>1751.372284</td>\n",
              "            <td>16631904</td>\n",
              "            <td>2010575</td>\n",
              "        </tr>\n",
              "        <tr>\n",
              "            <td>5</td>\n",
              "            <td>MOROTO</td>\n",
              "            <td>127811</td>\n",
              "            <td>3570160948</td>\n",
              "            <td>128</td>\n",
              "            <td>355</td>\n",
              "            <td>5954.814047999999</td>\n",
              "            <td>4741.748775999999</td>\n",
              "            <td>1190.050606</td>\n",
              "            <td>606944</td>\n",
              "            <td>422468</td>\n",
              "        </tr>\n",
              "    </tbody>\n",
              "</table>"
            ],
            "text/plain": [
              "[(92, 'ABIM', 90385, 2771977106, 449, 1040, 5470.068394, 3277.295971, 1848.621855, 1471506, 1922567),\n",
              " (96, 'AMUDAT', 101790, 1643582836, 205, 1297, 5765.443719, 2973.4238600000003, 2733.6610140000003, 609552, 3545558),\n",
              " (20, 'KAABONG', 627057, 7373606003, 279, 945, 28121.67253, 20544.19496, 7394.4163340000005, 5731830, 6987723),\n",
              " (85, 'KOTIDO', 243157, 3641539808, 331, 1148, 53032.64945, 50247.4439, 1751.372284, 16631904, 2010575),\n",
              " (5, 'MOROTO', 127811, 3570160948, 128, 355, 5954.814047999999, 4741.748775999999, 1190.050606, 606944, 422468)]"
            ]
          },
          "metadata": {
            "tags": []
          },
          "execution_count": 5
        }
      ]
    },
    {
      "cell_type": "markdown",
      "metadata": {
        "id": "EddVJkb7yHh6"
      },
      "source": [
        "The table named Uganda_Karamoja_Subcountry crop yield population HEREBY KNOWN AS **Y** (IN SHORT) in our Database"
      ]
    },
    {
      "cell_type": "code",
      "metadata": {
        "colab": {
          "base_uri": "https://localhost:8080/",
          "height": 262
        },
        "id": "5oU6XTV1q_0w",
        "outputId": "78e636f9-a41a-40bd-c0b1-e3ae9a9d99b3"
      },
      "source": [
        "#Uploading the Uganda_Karamoja_Subcountry crop yield Dataset to SQL dataframe\n",
        "#Droping any exsiting table named Uganda_Karamoja_Subcountry crop yield population HEREBY KNOWN AS Y (IN SHORT) in our Database\n",
        "#Previewing the Table\n",
        "\n",
        "with open('/content/Uganda_Karamoja_Subcounty_Crop_Yield_Population.csv','r') as f:\n",
        "    Y = pd.read_csv(f, index_col=0, encoding='utf-8')\n",
        "%sql DROP TABLE if EXISTS Y;\n",
        "%sql PERSIST Y;\n",
        "%sql SELECT * FROM Y LIMIT 5;"
      ],
      "execution_count": null,
      "outputs": [
        {
          "output_type": "stream",
          "text": [
            " * sqlite://\n",
            "Done.\n",
            " * sqlite://\n",
            " * sqlite://\n",
            "Done.\n"
          ],
          "name": "stdout"
        },
        {
          "output_type": "execute_result",
          "data": {
            "text/html": [
              "<table>\n",
              "    <thead>\n",
              "        <tr>\n",
              "            <th>OBJECTID</th>\n",
              "            <th>SUBCOUNTY_NAME</th>\n",
              "            <th>DISTRICT_NAME</th>\n",
              "            <th>POP</th>\n",
              "            <th>Area</th>\n",
              "            <th>Karamoja</th>\n",
              "            <th>S_Yield_Ha</th>\n",
              "            <th>M_Yield_Ha</th>\n",
              "            <th>Crop_Area_Ha</th>\n",
              "            <th>S_Area_Ha</th>\n",
              "            <th>M_Area_Ha</th>\n",
              "            <th>S_Prod_Tot</th>\n",
              "            <th>M_Prod_Tot</th>\n",
              "        </tr>\n",
              "    </thead>\n",
              "    <tbody>\n",
              "        <tr>\n",
              "            <td>263</td>\n",
              "            <td>KACHERI</td>\n",
              "            <td>KOTIDO</td>\n",
              "            <td>17244</td>\n",
              "            <td>1067176155</td>\n",
              "            <td>Y</td>\n",
              "            <td>354.20741069999997</td>\n",
              "            <td>1137.467019</td>\n",
              "            <td>7023.533691</td>\n",
              "            <td>6434.342449</td>\n",
              "            <td>528.1242294</td>\n",
              "            <td>2279091.779</td>\n",
              "            <td>600723.8929</td>\n",
              "        </tr>\n",
              "        <tr>\n",
              "            <td>264</td>\n",
              "            <td>KOTIDO</td>\n",
              "            <td>KOTIDO</td>\n",
              "            <td>52771</td>\n",
              "            <td>597575188</td>\n",
              "            <td>Y</td>\n",
              "            <td>367.89052319999996</td>\n",
              "            <td>1162.9966869999998</td>\n",
              "            <td>13587.990759999999</td>\n",
              "            <td>12455.59264</td>\n",
              "            <td>824.7670809</td>\n",
              "            <td>4582294.492</td>\n",
              "            <td>959201.3825</td>\n",
              "        </tr>\n",
              "        <tr>\n",
              "            <td>265</td>\n",
              "            <td>KOTIDO TOWN COUNCIL</td>\n",
              "            <td>KOTIDO</td>\n",
              "            <td>27389</td>\n",
              "            <td>23972401</td>\n",
              "            <td>Y</td>\n",
              "            <td>369.3141771</td>\n",
              "            <td>1167.005832</td>\n",
              "            <td>1656.5318550000002</td>\n",
              "            <td>1520.322052</td>\n",
              "            <td>8.561643817</td>\n",
              "            <td>561476.4874</td>\n",
              "            <td>9991.488268000001</td>\n",
              "        </tr>\n",
              "        <tr>\n",
              "            <td>266</td>\n",
              "            <td>NAKAPERIMORU</td>\n",
              "            <td>KOTIDO</td>\n",
              "            <td>38775</td>\n",
              "            <td>419111591</td>\n",
              "            <td>Y</td>\n",
              "            <td>283.3245689</td>\n",
              "            <td>852.3665784</td>\n",
              "            <td>7087.823334000001</td>\n",
              "            <td>6761.488901000001</td>\n",
              "            <td>45.72171184</td>\n",
              "            <td>1915695.928</td>\n",
              "            <td>38971.65908</td>\n",
              "        </tr>\n",
              "        <tr>\n",
              "            <td>267</td>\n",
              "            <td>PANYANGARA</td>\n",
              "            <td>KOTIDO</td>\n",
              "            <td>65704</td>\n",
              "            <td>880955930</td>\n",
              "            <td>Y</td>\n",
              "            <td>373.8369255</td>\n",
              "            <td>1283.859882</td>\n",
              "            <td>10398.24939</td>\n",
              "            <td>10111.198129999999</td>\n",
              "            <td>172.6119139</td>\n",
              "            <td>3779939.224</td>\n",
              "            <td>221609.5114</td>\n",
              "        </tr>\n",
              "    </tbody>\n",
              "</table>"
            ],
            "text/plain": [
              "[(263, 'KACHERI', 'KOTIDO', 17244, 1067176155, 'Y', 354.20741069999997, 1137.467019, 7023.533691, 6434.342449, 528.1242294, 2279091.779, 600723.8929),\n",
              " (264, 'KOTIDO', 'KOTIDO', 52771, 597575188, 'Y', 367.89052319999996, 1162.9966869999998, 13587.990759999999, 12455.59264, 824.7670809, 4582294.492, 959201.3825),\n",
              " (265, 'KOTIDO TOWN COUNCIL', 'KOTIDO', 27389, 23972401, 'Y', 369.3141771, 1167.005832, 1656.5318550000002, 1520.322052, 8.561643817, 561476.4874, 9991.488268000001),\n",
              " (266, 'NAKAPERIMORU', 'KOTIDO', 38775, 419111591, 'Y', 283.3245689, 852.3665784, 7087.823334000001, 6761.488901000001, 45.72171184, 1915695.928, 38971.65908),\n",
              " (267, 'PANYANGARA', 'KOTIDO', 65704, 880955930, 'Y', 373.8369255, 1283.859882, 10398.24939, 10111.198129999999, 172.6119139, 3779939.224, 221609.5114)]"
            ]
          },
          "metadata": {
            "tags": []
          },
          "execution_count": 6
        }
      ]
    },
    {
      "cell_type": "markdown",
      "metadata": {
        "id": "aJPOB01csmO1"
      },
      "source": [
        "##** DATA UNDERSTANDING**"
      ]
    },
    {
      "cell_type": "code",
      "metadata": {
        "colab": {
          "base_uri": "https://localhost:8080/"
        },
        "id": "qdUd_6V4sfv-",
        "outputId": "3a88e896-8700-4fde-e577-81be94fb18a6"
      },
      "source": [
        "# Getting to know more about the X data-set.\n",
        "#Like the data-types currently in use escpecially in an event we need to convert the data formats.\n",
        "X.columns.values"
      ],
      "execution_count": null,
      "outputs": [
        {
          "output_type": "execute_result",
          "data": {
            "text/plain": [
              "array(['NAME', 'POP', 'Area', 'S_Yield_Ha', 'M_Yield_Ha', 'Crop_Area_Ha',\n",
              "       'S_Area_Ha', 'M_Area_Ha', 'S_Prod_Tot', 'M_Prod_Tot'], dtype=object)"
            ]
          },
          "metadata": {
            "tags": []
          },
          "execution_count": 7
        }
      ]
    },
    {
      "cell_type": "code",
      "metadata": {
        "colab": {
          "base_uri": "https://localhost:8080/"
        },
        "id": "yzUtY4P_tfcc",
        "outputId": "ace32f2e-5e53-4c6e-b8de-e32532eebee1"
      },
      "source": [
        "# Getting to know more about the X data-set.\n",
        "#Like the data-types currently in use escpecially in an event we need to convert the data formats.\n",
        "Y.columns.values"
      ],
      "execution_count": null,
      "outputs": [
        {
          "output_type": "execute_result",
          "data": {
            "text/plain": [
              "array(['SUBCOUNTY_NAME', 'DISTRICT_NAME', 'POP', 'Area', 'Karamoja',\n",
              "       'S_Yield_Ha', 'M_Yield_Ha', 'Crop_Area_Ha', 'S_Area_Ha',\n",
              "       'M_Area_Ha', 'S_Prod_Tot', 'M_Prod_Tot'], dtype=object)"
            ]
          },
          "metadata": {
            "tags": []
          },
          "execution_count": 8
        }
      ]
    },
    {
      "cell_type": "code",
      "metadata": {
        "colab": {
          "base_uri": "https://localhost:8080/"
        },
        "id": "6hBH56IAvCAi",
        "outputId": "392c7999-19d6-4910-9b9a-c887d2545f15"
      },
      "source": [
        "#checking null values and data-info in X dataset\n",
        "\n",
        "print(\"DATASET TRES INFRORMATION\")\n",
        "print(X.info())\n",
        "print(\" DATASET TRES Descriptive Statistics\")\n",
        "print(X.describe())\n",
        "print(\"DATABASE TRES Null Value\")\n",
        "print(X.isnull().sum())"
      ],
      "execution_count": null,
      "outputs": [
        {
          "output_type": "stream",
          "text": [
            "DATASET TRES INFRORMATION\n",
            "<class 'pandas.core.frame.DataFrame'>\n",
            "Int64Index: 7 entries, 92 to 80\n",
            "Data columns (total 10 columns):\n",
            " #   Column        Non-Null Count  Dtype  \n",
            "---  ------        --------------  -----  \n",
            " 0   NAME          7 non-null      object \n",
            " 1   POP           7 non-null      int64  \n",
            " 2   Area          7 non-null      int64  \n",
            " 3   S_Yield_Ha    7 non-null      int64  \n",
            " 4   M_Yield_Ha    7 non-null      int64  \n",
            " 5   Crop_Area_Ha  7 non-null      float64\n",
            " 6   S_Area_Ha     7 non-null      float64\n",
            " 7   M_Area_Ha     7 non-null      float64\n",
            " 8   S_Prod_Tot    7 non-null      int64  \n",
            " 9   M_Prod_Tot    7 non-null      int64  \n",
            "dtypes: float64(3), int64(6), object(1)\n",
            "memory usage: 616.0+ bytes\n",
            "None\n",
            " DATASET TRES Descriptive Statistics\n",
            "                 POP          Area  ...    S_Prod_Tot    M_Prod_Tot\n",
            "count       7.000000  7.000000e+00  ...  7.000000e+00  7.000000e+00\n",
            "mean   214943.571429  3.960853e+09  ...  4.873098e+06  4.085632e+06\n",
            "std    188604.280916  1.781860e+09  ...  5.743724e+06  2.877188e+06\n",
            "min     90385.000000  1.643583e+09  ...  6.069440e+05  4.224680e+05\n",
            "25%    114800.500000  3.171069e+09  ...  1.040529e+06  1.966571e+06\n",
            "50%    146780.000000  3.641540e+09  ...  2.211456e+06  3.545558e+06\n",
            "75%    205391.000000  4.362553e+09  ...  6.290160e+06  6.288030e+06\n",
            "max    627057.000000  7.373606e+09  ...  1.663190e+07  8.122197e+06\n",
            "\n",
            "[8 rows x 9 columns]\n",
            "DATABASE TRES Null Value\n",
            "NAME            0\n",
            "POP             0\n",
            "Area            0\n",
            "S_Yield_Ha      0\n",
            "M_Yield_Ha      0\n",
            "Crop_Area_Ha    0\n",
            "S_Area_Ha       0\n",
            "M_Area_Ha       0\n",
            "S_Prod_Tot      0\n",
            "M_Prod_Tot      0\n",
            "dtype: int64\n"
          ],
          "name": "stdout"
        }
      ]
    },
    {
      "cell_type": "code",
      "metadata": {
        "colab": {
          "base_uri": "https://localhost:8080/"
        },
        "id": "Iow8MBpLvtVg",
        "outputId": "8520923e-80ef-4358-d041-92b339e02eb1"
      },
      "source": [
        "#checking null values and data-info in Y dataset\n",
        "\n",
        "print(\"DATASET TRES INFRORMATION\")\n",
        "print(Y.info())\n",
        "print(\" DATASET TRES Descriptive Statistics\")\n",
        "print(Y.describe())\n",
        "print(\"DATABASE TRES Null Value\")\n",
        "print(Y.isnull().sum())"
      ],
      "execution_count": null,
      "outputs": [
        {
          "output_type": "stream",
          "text": [
            "DATASET TRES INFRORMATION\n",
            "<class 'pandas.core.frame.DataFrame'>\n",
            "Int64Index: 52 entries, 263 to 1320\n",
            "Data columns (total 12 columns):\n",
            " #   Column          Non-Null Count  Dtype  \n",
            "---  ------          --------------  -----  \n",
            " 0   SUBCOUNTY_NAME  52 non-null     object \n",
            " 1   DISTRICT_NAME   52 non-null     object \n",
            " 2   POP             52 non-null     int64  \n",
            " 3   Area            52 non-null     int64  \n",
            " 4   Karamoja        52 non-null     object \n",
            " 5   S_Yield_Ha      52 non-null     float64\n",
            " 6   M_Yield_Ha      52 non-null     float64\n",
            " 7   Crop_Area_Ha    52 non-null     float64\n",
            " 8   S_Area_Ha       52 non-null     float64\n",
            " 9   M_Area_Ha       52 non-null     float64\n",
            " 10  S_Prod_Tot      52 non-null     float64\n",
            " 11  M_Prod_Tot      52 non-null     float64\n",
            "dtypes: float64(7), int64(2), object(3)\n",
            "memory usage: 5.3+ KB\n",
            "None\n",
            " DATASET TRES Descriptive Statistics\n",
            "                 POP          Area  ...    S_Prod_Tot    M_Prod_Tot\n",
            "count      52.000000  5.200000e+01  ...  5.200000e+01  5.200000e+01\n",
            "mean    28934.692308  5.331913e+08  ...  6.557443e+05  5.500730e+05\n",
            "std     20865.122974  4.913308e+08  ...  9.915839e+05  7.939707e+05\n",
            "min      1418.000000  2.121209e+06  ...  1.728126e+01  0.000000e+00\n",
            "25%     16558.500000  1.568923e+08  ...  1.210555e+05  6.087012e+04\n",
            "50%     23053.500000  3.848356e+08  ...  2.543687e+05  2.896239e+05\n",
            "75%     39461.000000  7.749029e+08  ...  6.040942e+05  8.114574e+05\n",
            "max    100919.000000  2.069555e+09  ...  4.582294e+06  4.365058e+06\n",
            "\n",
            "[8 rows x 9 columns]\n",
            "DATABASE TRES Null Value\n",
            "SUBCOUNTY_NAME    0\n",
            "DISTRICT_NAME     0\n",
            "POP               0\n",
            "Area              0\n",
            "Karamoja          0\n",
            "S_Yield_Ha        0\n",
            "M_Yield_Ha        0\n",
            "Crop_Area_Ha      0\n",
            "S_Area_Ha         0\n",
            "M_Area_Ha         0\n",
            "S_Prod_Tot        0\n",
            "M_Prod_Tot        0\n",
            "dtype: int64\n"
          ],
          "name": "stdout"
        }
      ]
    },
    {
      "cell_type": "code",
      "metadata": {
        "colab": {
          "base_uri": "https://localhost:8080/",
          "height": 297
        },
        "id": "2HgjTGuLuScK",
        "outputId": "391ba085-8a74-483b-ca94-4dbfdffd0619"
      },
      "source": [
        "%%sql\n",
        "PRAGMA table_info(X);"
      ],
      "execution_count": null,
      "outputs": [
        {
          "output_type": "stream",
          "text": [
            " * sqlite://\n",
            "Done.\n"
          ],
          "name": "stdout"
        },
        {
          "output_type": "execute_result",
          "data": {
            "text/html": [
              "<table>\n",
              "    <thead>\n",
              "        <tr>\n",
              "            <th>cid</th>\n",
              "            <th>name</th>\n",
              "            <th>type</th>\n",
              "            <th>notnull</th>\n",
              "            <th>dflt_value</th>\n",
              "            <th>pk</th>\n",
              "        </tr>\n",
              "    </thead>\n",
              "    <tbody>\n",
              "        <tr>\n",
              "            <td>0</td>\n",
              "            <td>OBJECTID</td>\n",
              "            <td>BIGINT</td>\n",
              "            <td>0</td>\n",
              "            <td>None</td>\n",
              "            <td>0</td>\n",
              "        </tr>\n",
              "        <tr>\n",
              "            <td>1</td>\n",
              "            <td>NAME</td>\n",
              "            <td>TEXT</td>\n",
              "            <td>0</td>\n",
              "            <td>None</td>\n",
              "            <td>0</td>\n",
              "        </tr>\n",
              "        <tr>\n",
              "            <td>2</td>\n",
              "            <td>POP</td>\n",
              "            <td>BIGINT</td>\n",
              "            <td>0</td>\n",
              "            <td>None</td>\n",
              "            <td>0</td>\n",
              "        </tr>\n",
              "        <tr>\n",
              "            <td>3</td>\n",
              "            <td>Area</td>\n",
              "            <td>BIGINT</td>\n",
              "            <td>0</td>\n",
              "            <td>None</td>\n",
              "            <td>0</td>\n",
              "        </tr>\n",
              "        <tr>\n",
              "            <td>4</td>\n",
              "            <td>S_Yield_Ha</td>\n",
              "            <td>BIGINT</td>\n",
              "            <td>0</td>\n",
              "            <td>None</td>\n",
              "            <td>0</td>\n",
              "        </tr>\n",
              "        <tr>\n",
              "            <td>5</td>\n",
              "            <td>M_Yield_Ha</td>\n",
              "            <td>BIGINT</td>\n",
              "            <td>0</td>\n",
              "            <td>None</td>\n",
              "            <td>0</td>\n",
              "        </tr>\n",
              "        <tr>\n",
              "            <td>6</td>\n",
              "            <td>Crop_Area_Ha</td>\n",
              "            <td>FLOAT</td>\n",
              "            <td>0</td>\n",
              "            <td>None</td>\n",
              "            <td>0</td>\n",
              "        </tr>\n",
              "        <tr>\n",
              "            <td>7</td>\n",
              "            <td>S_Area_Ha</td>\n",
              "            <td>FLOAT</td>\n",
              "            <td>0</td>\n",
              "            <td>None</td>\n",
              "            <td>0</td>\n",
              "        </tr>\n",
              "        <tr>\n",
              "            <td>8</td>\n",
              "            <td>M_Area_Ha</td>\n",
              "            <td>FLOAT</td>\n",
              "            <td>0</td>\n",
              "            <td>None</td>\n",
              "            <td>0</td>\n",
              "        </tr>\n",
              "        <tr>\n",
              "            <td>9</td>\n",
              "            <td>S_Prod_Tot</td>\n",
              "            <td>BIGINT</td>\n",
              "            <td>0</td>\n",
              "            <td>None</td>\n",
              "            <td>0</td>\n",
              "        </tr>\n",
              "        <tr>\n",
              "            <td>10</td>\n",
              "            <td>M_Prod_Tot</td>\n",
              "            <td>BIGINT</td>\n",
              "            <td>0</td>\n",
              "            <td>None</td>\n",
              "            <td>0</td>\n",
              "        </tr>\n",
              "    </tbody>\n",
              "</table>"
            ],
            "text/plain": [
              "[(0, 'OBJECTID', 'BIGINT', 0, None, 0),\n",
              " (1, 'NAME', 'TEXT', 0, None, 0),\n",
              " (2, 'POP', 'BIGINT', 0, None, 0),\n",
              " (3, 'Area', 'BIGINT', 0, None, 0),\n",
              " (4, 'S_Yield_Ha', 'BIGINT', 0, None, 0),\n",
              " (5, 'M_Yield_Ha', 'BIGINT', 0, None, 0),\n",
              " (6, 'Crop_Area_Ha', 'FLOAT', 0, None, 0),\n",
              " (7, 'S_Area_Ha', 'FLOAT', 0, None, 0),\n",
              " (8, 'M_Area_Ha', 'FLOAT', 0, None, 0),\n",
              " (9, 'S_Prod_Tot', 'BIGINT', 0, None, 0),\n",
              " (10, 'M_Prod_Tot', 'BIGINT', 0, None, 0)]"
            ]
          },
          "metadata": {
            "tags": []
          },
          "execution_count": 11
        }
      ]
    },
    {
      "cell_type": "code",
      "metadata": {
        "colab": {
          "base_uri": "https://localhost:8080/",
          "height": 338
        },
        "id": "emlnhOXuu8un",
        "outputId": "ecad2272-932c-43d5-86a9-b2083adba72c"
      },
      "source": [
        "%%sql\n",
        "PRAGMA table_info(Y);"
      ],
      "execution_count": null,
      "outputs": [
        {
          "output_type": "stream",
          "text": [
            " * sqlite://\n",
            "Done.\n"
          ],
          "name": "stdout"
        },
        {
          "output_type": "execute_result",
          "data": {
            "text/html": [
              "<table>\n",
              "    <thead>\n",
              "        <tr>\n",
              "            <th>cid</th>\n",
              "            <th>name</th>\n",
              "            <th>type</th>\n",
              "            <th>notnull</th>\n",
              "            <th>dflt_value</th>\n",
              "            <th>pk</th>\n",
              "        </tr>\n",
              "    </thead>\n",
              "    <tbody>\n",
              "        <tr>\n",
              "            <td>0</td>\n",
              "            <td>OBJECTID</td>\n",
              "            <td>BIGINT</td>\n",
              "            <td>0</td>\n",
              "            <td>None</td>\n",
              "            <td>0</td>\n",
              "        </tr>\n",
              "        <tr>\n",
              "            <td>1</td>\n",
              "            <td>SUBCOUNTY_NAME</td>\n",
              "            <td>TEXT</td>\n",
              "            <td>0</td>\n",
              "            <td>None</td>\n",
              "            <td>0</td>\n",
              "        </tr>\n",
              "        <tr>\n",
              "            <td>2</td>\n",
              "            <td>DISTRICT_NAME</td>\n",
              "            <td>TEXT</td>\n",
              "            <td>0</td>\n",
              "            <td>None</td>\n",
              "            <td>0</td>\n",
              "        </tr>\n",
              "        <tr>\n",
              "            <td>3</td>\n",
              "            <td>POP</td>\n",
              "            <td>BIGINT</td>\n",
              "            <td>0</td>\n",
              "            <td>None</td>\n",
              "            <td>0</td>\n",
              "        </tr>\n",
              "        <tr>\n",
              "            <td>4</td>\n",
              "            <td>Area</td>\n",
              "            <td>BIGINT</td>\n",
              "            <td>0</td>\n",
              "            <td>None</td>\n",
              "            <td>0</td>\n",
              "        </tr>\n",
              "        <tr>\n",
              "            <td>5</td>\n",
              "            <td>Karamoja</td>\n",
              "            <td>TEXT</td>\n",
              "            <td>0</td>\n",
              "            <td>None</td>\n",
              "            <td>0</td>\n",
              "        </tr>\n",
              "        <tr>\n",
              "            <td>6</td>\n",
              "            <td>S_Yield_Ha</td>\n",
              "            <td>FLOAT</td>\n",
              "            <td>0</td>\n",
              "            <td>None</td>\n",
              "            <td>0</td>\n",
              "        </tr>\n",
              "        <tr>\n",
              "            <td>7</td>\n",
              "            <td>M_Yield_Ha</td>\n",
              "            <td>FLOAT</td>\n",
              "            <td>0</td>\n",
              "            <td>None</td>\n",
              "            <td>0</td>\n",
              "        </tr>\n",
              "        <tr>\n",
              "            <td>8</td>\n",
              "            <td>Crop_Area_Ha</td>\n",
              "            <td>FLOAT</td>\n",
              "            <td>0</td>\n",
              "            <td>None</td>\n",
              "            <td>0</td>\n",
              "        </tr>\n",
              "        <tr>\n",
              "            <td>9</td>\n",
              "            <td>S_Area_Ha</td>\n",
              "            <td>FLOAT</td>\n",
              "            <td>0</td>\n",
              "            <td>None</td>\n",
              "            <td>0</td>\n",
              "        </tr>\n",
              "        <tr>\n",
              "            <td>10</td>\n",
              "            <td>M_Area_Ha</td>\n",
              "            <td>FLOAT</td>\n",
              "            <td>0</td>\n",
              "            <td>None</td>\n",
              "            <td>0</td>\n",
              "        </tr>\n",
              "        <tr>\n",
              "            <td>11</td>\n",
              "            <td>S_Prod_Tot</td>\n",
              "            <td>FLOAT</td>\n",
              "            <td>0</td>\n",
              "            <td>None</td>\n",
              "            <td>0</td>\n",
              "        </tr>\n",
              "        <tr>\n",
              "            <td>12</td>\n",
              "            <td>M_Prod_Tot</td>\n",
              "            <td>FLOAT</td>\n",
              "            <td>0</td>\n",
              "            <td>None</td>\n",
              "            <td>0</td>\n",
              "        </tr>\n",
              "    </tbody>\n",
              "</table>"
            ],
            "text/plain": [
              "[(0, 'OBJECTID', 'BIGINT', 0, None, 0),\n",
              " (1, 'SUBCOUNTY_NAME', 'TEXT', 0, None, 0),\n",
              " (2, 'DISTRICT_NAME', 'TEXT', 0, None, 0),\n",
              " (3, 'POP', 'BIGINT', 0, None, 0),\n",
              " (4, 'Area', 'BIGINT', 0, None, 0),\n",
              " (5, 'Karamoja', 'TEXT', 0, None, 0),\n",
              " (6, 'S_Yield_Ha', 'FLOAT', 0, None, 0),\n",
              " (7, 'M_Yield_Ha', 'FLOAT', 0, None, 0),\n",
              " (8, 'Crop_Area_Ha', 'FLOAT', 0, None, 0),\n",
              " (9, 'S_Area_Ha', 'FLOAT', 0, None, 0),\n",
              " (10, 'M_Area_Ha', 'FLOAT', 0, None, 0),\n",
              " (11, 'S_Prod_Tot', 'FLOAT', 0, None, 0),\n",
              " (12, 'M_Prod_Tot', 'FLOAT', 0, None, 0)]"
            ]
          },
          "metadata": {
            "tags": []
          },
          "execution_count": 12
        }
      ]
    },
    {
      "cell_type": "markdown",
      "metadata": {
        "id": "EWzyw2GAuVMX"
      },
      "source": [
        "##**FROM THE ABOVE, WE CAN SEE THAT THERE ARE NO NULL VALUES THUS NOTHING TO TRY AND FILL**"
      ]
    },
    {
      "cell_type": "code",
      "metadata": {
        "colab": {
          "base_uri": "https://localhost:8080/",
          "height": 289
        },
        "id": "TivOkPTFvbxs",
        "outputId": "fb427447-c579-43b8-ce12-50a23c5d49ce"
      },
      "source": [
        "#checking outliers of X dataset using boxplot and swarmplot\n",
        "#unusual but normal part of the data\n",
        "plt.figure(figsize=(9,2))\n",
        "\n",
        "plot=sns.boxplot(x='S_Yield_Ha',data=X,color='white')\n",
        "plot=sns.swarmplot(x='S_Yield_Ha',data=X,color='black')\n",
        "plt.title('S YIELD BOXPLOT',fontsize=14)\n",
        "\n",
        "plt.xlabel('S_Yield_Ha')\n",
        "plt.tight_layout()\n",
        "\n",
        "\n",
        "plt.figure(figsize=(9,2))\n",
        "\n",
        "plot=sns.boxplot(x='M_Yield_Ha',data=X,color='white')\n",
        "plot=sns.swarmplot(x='M_Yield_Ha',data=X,color='blue')\n",
        "\n",
        "plt.title('M YIELD BOXPLOT',fontsize=14)\n",
        "plt.xlabel('M_Yield_Ha')\n",
        "plt.tight_layout()"
      ],
      "execution_count": null,
      "outputs": [
        {
          "output_type": "display_data",
          "data": {
            "image/png": "[encoded data removed]",
            "text/plain": [
              "<Figure size 648x144 with 1 Axes>"
            ]
          },
          "metadata": {
            "tags": [],
            "needs_background": "light"
          }
        },
        {
          "output_type": "display_data",
          "data": {
            "image/png": "[encoded data removed]",
            "text/plain": [
              "<Figure size 648x144 with 1 Axes>"
            ]
          },
          "metadata": {
            "tags": [],
            "needs_background": "light"
          }
        }
      ]
    },
    {
      "cell_type": "code",
      "metadata": {
        "colab": {
          "base_uri": "https://localhost:8080/",
          "height": 289
        },
        "id": "8GJMMG2bycI6",
        "outputId": "40fbbe10-43f1-419b-d64b-eca658f89e59"
      },
      "source": [
        "#checking outliers of Y dataset using boxplot and swarmplot\n",
        "#unusual but normal part of the data\n",
        "plt.figure(figsize=(9,2))\n",
        "plot=sns.boxplot(x='S_Yield_Ha',data=Y,color='white')\n",
        "plot=sns.swarmplot(x='S_Yield_Ha',data=Y,color='black')\n",
        "plt.title('S YIELD BOXPLOT',fontsize=12)\n",
        "plt.xlabel('S_Yield_Ha')\n",
        "plt.tight_layout()\n",
        "\n",
        "plt.figure(figsize=(9,2))\n",
        "plot=sns.boxplot(x='M_Yield_Ha',data=Y,color='white')\n",
        "plot=sns.swarmplot(x='M_Yield_Ha',data=Y,color='blue')\n",
        "plt.title('M YIELD BOXPLOT',fontsize=12)\n",
        "plt.xlabel('M_Yield_Ha')\n",
        "plt.tight_layout()"
      ],
      "execution_count": null,
      "outputs": [
        {
          "output_type": "display_data",
          "data": {
            "image/png": "[encoded data removed]",
            "text/plain": [
              "<Figure size 648x144 with 1 Axes>"
            ]
          },
          "metadata": {
            "tags": [],
            "needs_background": "light"
          }
        },
        {
          "output_type": "display_data",
          "data": {
            "image/png": "[encoded data removed]",
            "text/plain": [
              "<Figure size 648x144 with 1 Axes>"
            ]
          },
          "metadata": {
            "tags": [],
            "needs_background": "light"
          }
        }
      ]
    },
    {
      "cell_type": "markdown",
      "metadata": {
        "id": "ykju4Tsl_3FG"
      },
      "source": [
        "##**DATA CLEANING**"
      ]
    },
    {
      "cell_type": "markdown",
      "metadata": {
        "id": "iGBGxMPV1OYl"
      },
      "source": [
        "**DATA CLEANING DONE IN TABLEAU.**\n",
        "\n",
        "An inner join is formed so as to ensure that the rows from both tables are retained.\n",
        "\n",
        "The data Interprator is then employed to clean the new table."
      ]
    },
    {
      "cell_type": "markdown",
      "metadata": {
        "id": "8miS9jbSUwCC"
      },
      "source": [
        "##**DATA EXPLORATION AND MODELLING**"
      ]
    },
    {
      "cell_type": "markdown",
      "metadata": {
        "id": "reNIkBfqU33e"
      },
      "source": [
        "The different virtualization employed and the in-depth analysis for the data is done on tableau"
      ]
    },
    {
      "cell_type": "markdown",
      "metadata": {
        "id": "MLtHXYelVOsZ"
      },
      "source": [
        "##**DATA EVALUATION AND RECOMMENDATION**"
      ]
    },
    {
      "cell_type": "markdown",
      "metadata": {
        "id": "L88PjyPZVY4c"
      },
      "source": [
        "**Evaluation**\n",
        "\n",
        "*   There is a direct relationship between the area allocated for food production and the total produce. For maize, the production area increases the total output until point X, where the relationship becomes indirect. For sorghum, the concept is the same until point Y, where an increase in the area neither results in an increase nor a decrease (point of saturation).\n",
        "\n",
        "*   Mize generally takes up less area to have bountiful produce yet has averagely higher quality produce.\n",
        "\n",
        "*  Some regions generally do better in maize, while some do better in sorghum. \n",
        "\n",
        "**Recommendation**\n",
        "\n",
        "\n",
        "*   Use the visual tool to work with optimum points. The point where the area of land gives maximum produce ought to be the maximum land allocated. This ensures that extra land is put to good use, i.e., the state of equilibrium is achieved.\n",
        "\n",
        "*   Given that maize yields abundantly even on smaller hectares of land, regions with smaller pieces of land can focus on maize growing while regions with larger pieces of land can focus on sorghum. Since both crops have a high return on investment; there would be more food hence promise of more food security. \n",
        "\n",
        "*   The regions that are currently not production intensive ought to be studied to see what is the problem and how the narrative can change.\n",
        "\n",
        "\n",
        "\n",
        "\n",
        "\n",
        "\n",
        "\n",
        "\n",
        "\n"
      ]
    }
  ]
}